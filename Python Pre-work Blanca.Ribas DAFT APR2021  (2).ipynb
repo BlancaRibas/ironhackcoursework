{
 "cells": [
  {
   "cell_type": "markdown",
   "metadata": {},
   "source": [
    "# 1. Snail and well"
   ]
  },
  {
   "cell_type": "code",
   "execution_count": 28,
   "metadata": {},
   "outputs": [],
   "source": [
    "well_height = 125\n",
    "daily_distance = 30\n",
    "nightly_distance = 20\n",
    "snail_position = 0"
   ]
  },
  {
   "cell_type": "code",
   "execution_count": null,
   "metadata": {},
   "outputs": [],
   "source": [
    "days = 0"
   ]
  },
  {
   "cell_type": "code",
   "execution_count": 29,
   "metadata": {},
   "outputs": [
    {
     "name": "stdout",
     "output_type": "stream",
     "text": [
      "3809115\n"
     ]
    }
   ],
   "source": [
    "while True:\n",
    "    days += 1\n",
    "    snail_position += daily_distance\n",
    "    if snail_position >= well_height:\n",
    "        break\n",
    "    snail_position -= nightly_distance\n",
    "print(days)"
   ]
  },
  {
   "cell_type": "markdown",
   "metadata": {},
   "source": [
    "# 2. Duel of Sorcerers"
   ]
  },
  {
   "cell_type": "code",
   "execution_count": null,
   "metadata": {},
   "outputs": [],
   "source": [
    "gandalf = [10, 11, 13, 30, 22, 11, 10, 33, 22, 22]\n",
    "saruman = [23, 66, 12, 43, 12, 10, 44, 23, 12, 17]\n",
    "spells =  gandalf + saruman"
   ]
  },
  {
   "cell_type": "code",
   "execution_count": null,
   "metadata": {},
   "outputs": [],
   "source": [
    "gandalf_wins= 0 \n",
    "saruman_wins= 0"
   ]
  },
  {
   "cell_type": "code",
   "execution_count": 31,
   "metadata": {},
   "outputs": [
    {
     "ename": "SyntaxError",
     "evalue": "Missing parentheses in call to 'print'. Did you mean print(\"gandalf wins\")? (<ipython-input-31-5e2d5f69e1c1>, line 2)",
     "output_type": "error",
     "traceback": [
      "\u001b[1;36m  File \u001b[1;32m\"<ipython-input-31-5e2d5f69e1c1>\"\u001b[1;36m, line \u001b[1;32m2\u001b[0m\n\u001b[1;33m    print \"gandalf wins\"\u001b[0m\n\u001b[1;37m          ^\u001b[0m\n\u001b[1;31mSyntaxError\u001b[0m\u001b[1;31m:\u001b[0m Missing parentheses in call to 'print'. Did you mean print(\"gandalf wins\")?\n"
     ]
    }
   ],
   "source": [
    "gandalf >+ saruman\n",
    "print \"gandalf wins\""
   ]
  },
  {
   "cell_type": "markdown",
   "metadata": {},
   "source": [
    "# 3. Bus"
   ]
  },
  {
   "cell_type": "code",
   "execution_count": 53,
   "metadata": {},
   "outputs": [
    {
     "name": "stdout",
     "output_type": "stream",
     "text": [
      "37\n",
      "43\n",
      "10\n",
      "10\n",
      "4.111111111111111\n",
      "4.777777777777778\n"
     ]
    }
   ],
   "source": [
    "# Variables\n",
    "stops = [(10, 0), (4, 1), (3, 5), (3, 4), (5, 1), (1, 5), (5, 8), (4, 6), (2, 3)]\n",
    "stops_in = [10, 4, 3, 3, 5, 1, 5, 4, 2]\n",
    "stops_on = [10, 1, 5, 4, 1, 5, 8, 6, 3]\n",
    "total_in = sum (stops_in)\n",
    "print (total_in)\n",
    "total_on= sum (stops_on)\n",
    "print (total_on)\n",
    "max_total_in=max(stops_in)\n",
    "max_total_on=max(stops_on)\n",
    "print (max_total_in)\n",
    "print (max_total_on)\n",
    "average_total_in=(total_in/9)\n",
    "print (average_total_in)\n",
    "average_total_on=(total_on/9)\n",
    "print(average_total_on)\n"
   ]
  },
  {
   "cell_type": "markdown",
   "metadata": {},
   "source": [
    "# 4. Robbin Hood"
   ]
  },
  {
   "cell_type": "code",
   "execution_count": null,
   "metadata": {},
   "outputs": [],
   "source": [
    "points = [(4, 5), (-0, 2), (4, 7), (1, -3), (3, -2), (4, 5), (3, 2), (5, 7), (-5, 7), (2, 2), (-4, 5), (0, -2),\n",
    "          (-4, 7), (-1, 3), (-3, 2), (-4, -5), (-3, 2), (5, 7), (5, 7), (2, 2), (9, 9), (-8, -9)]\n",
    "x= (4,0,4,1,3,4,3,5,-5,2,-4,0,-4,-1,-3,-4,-3,5,5,2,9,-8)\n",
    "y= (5,2,7,-3,-2,5,2,7,7,2,5,-2,7,3,2,-5,-3,7,7,2,9,-9)\n",
    "xrandom= random.choice(x)\n",
    "yrandom= random.choice(y)\n",
    "arrow_hits_arrow = (x=xrandom),(y=yrandom)\n",
    "print(arrow_hits_arrow)\n",
    "quadrant_1=(x>0, y>0)\n",
    "print(quadrant_1)\n",
    "quadrant_2=(x<0, y>0)\n",
    "print(quadrant_2)\n",
    "quadrant_3=(x<0, y<0)\n",
    "print(quadrant_3)\n",
    "quadrant_4=(x>0, y>0)\n",
    "print(quadrant_4)\n"
   ]
  },
  {
   "cell_type": "markdown",
   "metadata": {},
   "source": [
    "# 5.Temperature processor"
   ]
  },
  {
   "cell_type": "code",
   "execution_count": null,
   "metadata": {},
   "outputs": [],
   "source": [
    "temperatures_C = [33, 66, 65, 0, 59, 60, 62, 64, 70, 76, 80, 81, 80, 83, 90, 79, 61, 53, 50, 49, 53, 48, 45, 39]\n",
    "min_temperature = min (temperatures_C)\n",
    "print(min_temperature)\n",
    "max_temperature = max (temperatures_C)\n",
    "print(max_temperature)\n",
    "list=temperatures_C if += 70\n",
    "print (list)\n",
    "average_total=(temperatures_C/24)\n",
    "print(average_total)"
   ]
  },
  {
   "cell_type": "markdown",
   "metadata": {},
   "source": [
    "# 6. Rock–Paper–Scissors"
   ]
  },
  {
   "cell_type": "code",
   "execution_count": null,
   "metadata": {},
   "outputs": [],
   "source": [
    "import random\n",
    "gestures = input(\"Enter a choice (rock, paper, scissors):\")\n",
    "n_rounds = [1, 2, 3, 4,5]\n",
    "rounds_to_win = random\n",
    "player_score = [\"rock, paper, scissors\"]\n",
    "cpu_score = random.choice(gestures)\n",
    "print(f\"\\n player choses {player_score}, computer choses {cpu_score}.\\n\")\n",
    "if player_score == cpu_score:\n",
    "    print(f\"Both players selected {player_score}\")\n",
    "elif player_score == \"rock\":\n",
    "    if cpu_score == \"scissors\":\n",
    "        print(\"player wins\")\n",
    "    else:\n",
    "        print(\"player loses\")\n",
    "elif player_score == \"paper\":\n",
    "    if cpu_score == \"rock\":\n",
    "        print(\"player wins\")\n",
    "    else:\n",
    "        print(\"player loses\")\n",
    "elif player_score == \"scissors\":\n",
    "    if cpu_score == \"paper\":\n",
    "        print(\"player wins\")\n",
    "    else:\n",
    "        print(\"player loses\")"
   ]
  }
 ],
 "metadata": {
  "kernelspec": {
   "display_name": "Python 3",
   "language": "python",
   "name": "python3"
  },
  "language_info": {
   "codemirror_mode": {
    "name": "ipython",
    "version": 3
   },
   "file_extension": ".py",
   "mimetype": "text/x-python",
   "name": "python",
   "nbconvert_exporter": "python",
   "pygments_lexer": "ipython3",
   "version": "3.8.5"
  }
 },
 "nbformat": 4,
 "nbformat_minor": 4
}
